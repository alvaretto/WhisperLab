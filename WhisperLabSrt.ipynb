{
 "cells": [
  {
   "cell_type": "code",
   "execution_count": null,
   "metadata": {},
   "outputs": [],
   "source": [
    "# Bloque 01: Mantener la sesión activa\n",
    "import time\n",
    "from IPython.display import display, Javascript\n",
    "\n",
    "# Este código inyecta un script de JavaScript que simula la interacción del usuario\n",
    "def keep_awake():\n",
    "    display(Javascript('''\n",
    "        function ClickConnect() {\n",
    "            console.log(\"Manteniendo la conexión activa\");\n",
    "            document.querySelector(\"colab-toolbar-button#connect\").click();\n",
    "        }\n",
    "        setInterval(ClickConnect, 60000)\n",
    "    '''))\n",
    "\n",
    "keep_awake()"
   ]
  },
  {
   "cell_type": "code",
   "execution_count": null,
   "metadata": {},
   "outputs": [],
   "source": [
    "# Bloque 02: Instalación de paquetes e importación de bibliotecas\n",
    "!pip install git+https://github.com/openai/whisper.git\n",
    "!pip install ffmpeg\n",
    "\n",
    "import whisper\n",
    "from google.colab import drive\n",
    "import os\n",
    "import shutil\n",
    "from tqdm.auto import tqdm\n",
    "import re"
   ]
  },
  {
   "cell_type": "code",
   "execution_count": null,
   "metadata": {},
   "outputs": [],
   "source": [
    "# Bloque 03: Montar Google Drive\n",
    "drive.mount('/content/drive')"
   ]
  },
  {
   "cell_type": "code",
   "execution_count": null,
   "metadata": {},
   "outputs": [],
   "source": [
    "# Bloque 04: Mover archivos .mp4 de Google Drive a la carpeta /content\n",
    "ruta_origen = '/content/drive/MyDrive/videos'\n",
    "ruta_destino = '/content/'\n",
    "\n",
    "os.makedirs(ruta_destino, exist_ok=True)\n",
    "\n",
    "for archivo in tqdm(os.listdir(ruta_origen), desc=\"Copiando archivos MP4\"):\n",
    "    if archivo.endswith('.mp4'):\n",
    "        origen = os.path.join(ruta_origen, archivo)\n",
    "        destino = os.path.join(ruta_destino, archivo)\n",
    "        shutil.copy(origen, destino)"
   ]
  },
  {
   "cell_type": "code",
   "execution_count": null,
   "metadata": {},
   "outputs": [],
   "source": [
    "# Bloque 05: Definir la función de formato de tiempo\n",
    "def format_timestamp(seconds: float):\n",
    "    assert seconds >= 0, \"Se esperaba una marca de tiempo no negativa\"\n",
    "    milliseconds = round(seconds * 1000.0)\n",
    "\n",
    "    hours = milliseconds // 3_600_000\n",
    "    milliseconds -= hours * 3_600_000\n",
    "\n",
    "    minutes = milliseconds // 60_000\n",
    "    milliseconds -= minutes * 60_000\n",
    "\n",
    "    seconds = milliseconds // 1_000\n",
    "    milliseconds -= seconds * 1_000\n",
    "\n",
    "    return f\"{hours:02d}:{minutes:02d}:{seconds:02d},{milliseconds:03d}\"\n",
    "\n",
    "# Nueva función para mejorar los subtítulos\n",
    "def mejorar_subtitulos(subtitulos):\n",
    "    # Diccionario de términos técnicos y sus equivalentes más formales\n",
    "    terminos_tecnicos = {\n",
    "        \"red doméstica\": \"red residencial\",\n",
    "        \"configuración de la red\": \"configuración de red\",\n",
    "        \"componentes\": \"elementos\",\n",
    "        \"paso a paso\": \"de manera sistemática\",\n",
    "        # Agregar más términos según sea necesario\n",
    "    }\n",
    "\n",
    "    # Función para reemplazar términos\n",
    "    def reemplazar_terminos(texto):\n",
    "        for termino, reemplazo in terminos_tecnicos.items():\n",
    "            texto = re.sub(r'\\b' + re.escape(termino) + r'\\b', reemplazo, texto, flags=re.IGNORECASE)\n",
    "        return texto\n",
    "\n",
    "    subtitulos_mejorados = []\n",
    "    for subtitulo in subtitulos.split('\\n\\n'):\n",
    "        partes = subtitulo.split('\\n', 2)\n",
    "        if len(partes) == 3:\n",
    "            numero, tiempo, texto = partes\n",
    "            # Mejorar el texto\n",
    "            texto = reemplazar_terminos(texto)\n",
    "            texto = texto.capitalize()  # Asegurar que cada subtítulo comience con mayúscula\n",
    "            texto = re.sub(r'\\s+', ' ', texto).strip()  # Eliminar espacios extra\n",
    "            # Reconstruir el subtítulo\n",
    "            subtitulo_mejorado = f\"{numero}\\n{tiempo}\\n{texto}\"\n",
    "            subtitulos_mejorados.append(subtitulo_mejorado)\n",
    "\n",
    "    return '\\n\\n'.join(subtitulos_mejorados)"
   ]
  },
  {
   "cell_type": "code",
   "execution_count": null,
   "metadata": {},
   "outputs": [],
   "source": [
    "# Bloque 06: Carga del modelo de transcripción\n",
    "model = whisper.load_model(\"large-v3\")"
   ]
  },
  {
   "cell_type": "code",
   "execution_count": null,
   "metadata": {},
   "outputs": [],
   "source": [
    "# Bloque 07: Transcripción de los archivos de video y guardado de los subtítulos en formato SRT\n",
    "\n",
    "# Crear la carpeta \"SubtítulosEN\" si no existe\n",
    "os.makedirs('/content/drive/MyDrive/SubtítulosEN', exist_ok=True)\n",
    "\n",
    "# Guardar los archivos .srt en la carpeta \"SubtítulosEN\"\n",
    "for archivo in tqdm(os.listdir(), desc=\"Generando subtítulos...\"):\n",
    "    if archivo.endswith(\".mp4\"):\n",
    "        result = model.transcribe(archivo)\n",
    "        subtitulos = \"\"\n",
    "        for i, segmento in enumerate(result[\"segments\"], start=1):\n",
    "            subtitulos += f\"{i}\\n\"\n",
    "            subtitulos += f\"{format_timestamp(segmento['start'])} --> {format_timestamp(segmento['end'])}\\n\"\n",
    "            subtitulos += f\"{segmento['text'].strip()}\\n\\n\"\n",
    "        \n",
    "        # Mejorar los subtítulos\n",
    "        subtitulos_mejorados = mejorar_subtitulos(subtitulos)\n",
    "        \n",
    "        nombre_subtitulos = os.path.splitext(archivo)[0] + \".srt\"\n",
    "        ruta_subtitulos = os.path.join(\"/content/drive/MyDrive/SubtítulosEN\", nombre_subtitulos)\n",
    "        with open(ruta_subtitulos, \"w\") as archivo_subtitulos:\n",
    "            archivo_subtitulos.write(subtitulos_mejorados)\n",
    "\n",
    "print(\"Proceso completado. Los archivos .srt mejorados se encuentran en /content/drive/MyDrive/SubtítulosEN\")"
   ]
  }
 ],
 "metadata": {
  "accelerator": "GPU",
  "colab": {
   "provenance": []
  },
  "gpuClass": "standard",
  "kernelspec": {
   "display_name": "Python 3 (ipykernel)",
   "language": "python",
   "name": "python3"
  },
  "language_info": {
   "codemirror_mode": {
    "name": "ipython",
    "version": 3
   },
   "file_extension": ".py",
   "mimetype": "text/x-python",
   "name": "python",
   "nbconvert_exporter": "python",
   "pygments_lexer": "ipython3",
   "version": "3.11.2"
  }
 },
 "nbformat": 4,
 "nbformat_minor": 4
}
