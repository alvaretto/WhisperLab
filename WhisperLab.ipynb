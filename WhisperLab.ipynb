{
  "cells": [
    {
      "cell_type": "markdown",
      "metadata": {
        "id": "view-in-github",
        "colab_type": "text"
      },
      "source": [
        "<a href=\"https://colab.research.google.com/github/alvaretto/WhisperLab/blob/main/WhisperLab.ipynb\" target=\"_parent\"><img src=\"https://colab.research.google.com/assets/colab-badge.svg\" alt=\"Open In Colab\"/></a>"
      ]
    },
    {
      "cell_type": "code",
      "execution_count": null,
      "metadata": {
        "id": "6jsktLe-46vr"
      },
      "outputs": [],
      "source": [
        "# Bloque 01: Instalación de paquetes e importación de bibliotecas\n",
        "!pip install googletrans==4.0.0-rc1\n",
        "!pip install git+https://github.com/openai/whisper.git\n",
        "!pip install ffmpeg\n",
        "!pip install tqdm\n",
        "\n",
        "from IPython.display import HTML, Audio\n",
        "from google.colab.output import eval_js\n",
        "from base64 import b64decode\n",
        "import numpy as np\n",
        "from scipy.io.wavfile import read as wav_read\n",
        "import io\n",
        "import ffmpeg\n",
        "import whisper\n",
        "from typing import Callable, TextIO\n",
        "from googletrans import Translator\n",
        "from google.colab import files, drive\n",
        "import os\n",
        "import shutil\n",
        "from tqdm.auto import tqdm"
      ]
    },
    {
      "cell_type": "code",
      "execution_count": null,
      "metadata": {
        "id": "qb_rpJK046vz"
      },
      "outputs": [],
      "source": [
        "# Bloque 02: Montar Google Drive y mover archivos .mp4 a la carpeta /content\n",
        "drive.mount('/content/drive')\n",
        "\n",
        "ruta_origen = '/content/drive/MyDrive/videos'\n",
        "ruta_destino = '/content/'\n",
        "\n",
        "if not os.path.exists(ruta_destino):\n",
        "    os.makedirs(ruta_destino)\n",
        "\n",
        "for archivo in tqdm(os.listdir(ruta_origen), desc=\"Copiando archivos MP4\"):\n",
        "    if archivo.endswith('.mp4'):\n",
        "        origen = os.path.join(ruta_origen, archivo)\n",
        "        destino = os.path.join(ruta_destino, archivo)\n",
        "        shutil.copy(origen, destino)"
      ]
    },
    {
      "cell_type": "code",
      "execution_count": null,
      "metadata": {
        "id": "FeN2xXr046v0"
      },
      "outputs": [],
      "source": [
        "# Bloque 03: Definir la función de transcripción\n",
        "def format_timestamp(seconds: float, always_include_hours: bool = False, decimal_marker: str = '.'):\n",
        "    assert seconds >= 0, \"non-negative timestamp expected\"\n",
        "    milliseconds = round(seconds * 1000.0)\n",
        "\n",
        "    hours = milliseconds // 3_600_000\n",
        "    milliseconds -= hours * 3_600_000\n",
        "\n",
        "    minutes = milliseconds // 60_000\n",
        "    milliseconds -= minutes * 60_000\n",
        "\n",
        "    seconds = milliseconds // 1_000\n",
        "    milliseconds -= seconds * 1_000\n",
        "\n",
        "    hours_marker = f\"{hours:02d}:\" if always_include_hours or hours > 0 else \"\"\n",
        "    return f\"{hours_marker}{minutes:02d}:{seconds:02d}{decimal_marker}{milliseconds:03d}\""
      ]
    },
    {
      "cell_type": "code",
      "execution_count": null,
      "metadata": {
        "id": "Wqb6yMhz46v2"
      },
      "outputs": [],
      "source": [
        "# Bloque 04: Transcripción de los archivos de video y guardado de los subtítulos en formato VTT, sin traducir\n",
        "model = whisper.load_model(\"large\")\n",
        "\n",
        "# Crear la carpeta \"Subtítulos\" si no existe\n",
        "if not os.path.exists(\"Subtítulos\"):\n",
        "    os.makedirs(\"Subtítulos\")\n",
        "\n",
        "# Guardar los archivos .vtt en la carpeta \"Subtítulos\"\n",
        "for transcripcion in [ar for ar in os.listdir() if str.endswith(ar, \"mp4\")]:\n",
        "    print(transcripcion)\n",
        "    result = model.transcribe(transcripcion)\n",
        "    st1 = \"WEBVTT\\n\\n\"\n",
        "    for linea in result[\"segments\"]:\n",
        "        st1 += format_timestamp(linea[\"start\"]) + \" --> \" + format_timestamp(linea[\"end\"]) + \"\\n\"\n",
        "        st1 += linea[\"text\"].strip() + \"\\n\\n\"\n",
        "    with open(os.path.join(\"Subtítulos\", transcripcion[:-3] + \"vtt\"), \"w\") as f:\n",
        "        f.write(st1)\n",
        "    print(\"Se guardó como \" + os.path.join(\"Subtítulos\", transcripcion[:-3] + \"vtt\"))\n",
        "\n",
        "ruta_origen = '/content/Subtítulos'\n",
        "ruta_destino = '/content/drive/MyDrive/SubtítulosEN'\n",
        "\n",
        "# Comprobar si la ruta de destino existe, si no, crearla\n",
        "if not os.path.exists(ruta_destino):\n",
        "    os.makedirs(ruta_destino)\n",
        "\n",
        "# Copiar todos los archivos de la ruta de origen a la ruta de destino\n",
        "for archivo in tqdm(os.listdir(ruta_origen), desc=\"Copiando subtítulos sin traducir\"):\n",
        "    origen = os.path.join(ruta_origen, archivo)\n",
        "    destino = os.path.join(ruta_destino, archivo)\n",
        "    shutil.copy(origen, destino)"
      ]
    },
    {
      "cell_type": "code",
      "execution_count": null,
      "metadata": {
        "id": "w_IBPRAW46v6"
      },
      "outputs": [],
      "source": [
        "# Bloque 05: Traducción individual de los subtítulos .vtt del inglés al español\n",
        "if not os.path.exists(\"Subtítulos_ES\"):\n",
        "    os.makedirs(\"Subtítulos_ES\")\n",
        "\n",
        "translator = Translator()\n",
        "\n",
        "ruta_destino_drive = '/content/drive/MyDrive/SubtítulosES'\n",
        "if not os.path.exists(ruta_destino_drive):\n",
        "    os.makedirs(ruta_destino_drive)\n",
        "\n",
        "for archivo_vtt in tqdm([ar for ar in os.listdir(\"Subtítulos\") if str.endswith(ar, \"vtt\")], desc=\"Traduciendo subtítulos\"):\n",
        "    print(archivo_vtt)\n",
        "    with open(os.path.join(\"Subtítulos\", archivo_vtt), \"r\") as f:\n",
        "        contenido = f.read()\n",
        "        lineas = contenido.split(\"\\n\")\n",
        "        traducido = \"WEBVTT\\n\\n\"\n",
        "        i = 2\n",
        "        while i < len(lineas):\n",
        "            if lineas[i] == \"\":\n",
        "                traducido += \"\\n\"\n",
        "                i += 1\n",
        "            else:\n",
        "                traducido += lineas[i] + \"\\n\"  # Copia la línea de tiempo\n",
        "                i += 1\n",
        "                texto_original = lineas[i]\n",
        "                texto_traducido = translator.translate(texto_original.strip(), dest='es').text\n",
        "                traducido += texto_traducido + \"\\n\"\n",
        "                i += 1\n",
        "    with open(os.path.join(\"Subtítulos_ES\", archivo_vtt), \"w\") as f:\n",
        "        f.write(traducido)\n",
        "    print(\"Se guardó como \" + os.path.join(\"Subtítulos_ES\", archivo_vtt))\n",
        "\n",
        "    # Copiar el archivo .vtt traducido a la carpeta de Google Drive\n",
        "    origen = os.path.join(\"Subtítulos_ES\", archivo_vtt)\n",
        "    destino = os.path.join(ruta_destino_drive, archivo_vtt)\n",
        "    shutil.copy(origen, destino)\n",
        "    print(f'El archivo {archivo_vtt} ha sido copiado a {ruta_destino_drive}')"
      ]
    }
  ],
  "metadata": {
    "accelerator": "GPU",
    "colab": {
      "provenance": [],
      "include_colab_link": true
    },
    "gpuClass": "standard",
    "kernelspec": {
      "display_name": "Python 3 (ipykernel)",
      "language": "python",
      "name": "python3"
    },
    "language_info": {
      "codemirror_mode": {
        "name": "ipython",
        "version": 3
      },
      "file_extension": ".py",
      "mimetype": "text/x-python",
      "name": "python",
      "nbconvert_exporter": "python",
      "pygments_lexer": "ipython3",
      "version": "3.10.6"
    }
  },
  "nbformat": 4,
  "nbformat_minor": 0
}