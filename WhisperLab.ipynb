{
 "cells": [
  {
   "cell_type": "code",
   "execution_count": null,
   "metadata": {
    "colab": {
     "base_uri": "https://localhost:8080/"
    },
    "id": "6l7mvMiMdhFo",
    "outputId": "89e711df-8a68-4c37-dec8-d641be1ad135"
   },
   "outputs": [],
   "source": [
    "# Bloque 01: Instalación de paquetes e importación de bibliotecas\n",
    "!pip install googletrans==4.0.0-rc1\n",
    "!pip install git+https://github.com/openai/whisper.git\n",
    "!pip install ffmpeg\n",
    "\n",
    "from IPython.display import HTML, Audio\n",
    "from google.colab.output import eval_js\n",
    "from base64 import b64decode\n",
    "import numpy as np\n",
    "from scipy.io.wavfile import read as wav_read\n",
    "import io\n",
    "import ffmpeg\n",
    "import whisper\n",
    "from typing import Callable, TextIO\n",
    "from googletrans import Translator\n",
    "from google.colab import files, drive\n",
    "import os\n",
    "import shutil"
   ]
  },
  {
   "cell_type": "code",
   "execution_count": null,
   "metadata": {
    "colab": {
     "base_uri": "https://localhost:8080/"
    },
    "id": "0H1UIF9WdhF5",
    "outputId": "f9d01ea1-dc4a-4f5c-9224-adddb897dd75"
   },
   "outputs": [],
   "source": [
    "# Bloque 02: Montar Google Drive y mover archivos .mp4 a la carpeta /content\n",
    "drive.mount('/content/drive')\n",
    "\n",
    "ruta_origen = '/content/drive/MyDrive/videos'\n",
    "ruta_destino = '/content/'\n",
    "\n",
    "if not os.path.exists(ruta_destino):\n",
    "    os.makedirs(ruta_destino)\n",
    "\n",
    "for archivo in os.listdir(ruta_origen):\n",
    "    if archivo.endswith('.mp4'):\n",
    "        origen = os.path.join(ruta_origen, archivo)\n",
    "        destino = os.path.join(ruta_destino, archivo)\n",
    "        shutil.copy(origen, destino)\n",
    "        print(f'El archivo {archivo} ha sido copiado a {ruta_destino}')"
   ]
  },
  {
   "cell_type": "code",
   "execution_count": null,
   "metadata": {
    "id": "t0rp-fy8dhF8"
   },
   "outputs": [],
   "source": [
    "# Bloque 03: Definir la función de transcripción\n",
    "def format_timestamp(seconds: float, always_include_hours: bool = False, decimal_marker: str = '.'):\n",
    "    assert seconds >= 0, \"non-negative timestamp expected\"\n",
    "    milliseconds = round(seconds * 1000.0)\n",
    "\n",
    "    hours = milliseconds // 3_600_000\n",
    "    milliseconds -= hours * 3_600_000\n",
    "\n",
    "    minutes = milliseconds // 60_000\n",
    "    milliseconds -= minutes * 60_000\n",
    "\n",
    "    seconds = milliseconds // 1_000\n",
    "    milliseconds -= seconds * 1_000\n",
    "\n",
    "    hours_marker = f\"{hours:02d}:\" if always_include_hours or hours > 0 else \"\"\n",
    "    return f\"{hours_marker}{minutes:02d}:{seconds:02d}{decimal_marker}{milliseconds:03d}\""
   ]
  },
  {
   "cell_type": "code",
   "execution_count": null,
   "metadata": {
    "colab": {
     "base_uri": "https://localhost:8080/"
    },
    "id": "V6jjJc0IdhF_",
    "outputId": "40afb639-f3c2-4d6b-cb46-441b855f59b7"
   },
   "outputs": [],
   "source": [
    "# Bloque 04: Transcripción de los archivos de video y guardado de los subtítulos en formato VTT, sin traducir\n",
    "model = whisper.load_model(\"large\")\n",
    "\n",
    "# Crear la carpeta \"Subtítulos\" si no existe\n",
    "if not os.path.exists(\"Subtítulos\"):\n",
    "    os.makedirs(\"Subtítulos\")\n",
    "\n",
    "# Guardar los archivos .vtt en la carpeta \"Subtítulos\"\n",
    "for transcripcion in [ar for ar in os.listdir() if str.endswith(ar, \"mp4\")]:\n",
    "    print(transcripcion)\n",
    "    result = model.transcribe(transcripcion)\n",
    "    st1 = \"WEBVTT\\n\\n\"\n",
    "    for linea in result[\"segments\"]:\n",
    "        st1 += format_timestamp(linea[\"start\"]) + \" --> \" + format_timestamp(linea[\"end\"]) + \"\\n\"\n",
    "        st1 += linea[\"text\"].strip() + \"\\n\\n\"\n",
    "    with open(os.path.join(\"Subtítulos\", transcripcion[:-3] + \"vtt\"), \"w\") as f:\n",
    "        f.write(st1)\n",
    "    print(\"Se guardó como \" + os.path.join(\"Subtítulos\", transcripcion[:-3] + \"vtt\"))\n",
    "\n",
    "ruta_origen = '/content/Subtítulos'\n",
    "ruta_destino = '/content/drive/MyDrive/SubtítulosEN'\n",
    "\n",
    "# Comprobar si la ruta de destino existe, si no, crearla\n",
    "if not os.path.exists(ruta_destino):\n",
    "    os.makedirs(ruta_destino)\n",
    "\n",
    "# Copiar todos los archivos de la ruta de origen a la ruta de destino\n",
    "for archivo in os.listdir(ruta_origen):\n",
    "    origen = os.path.join(ruta_origen, archivo)\n",
    "    destino = os.path.join(ruta_destino, archivo)\n",
    "    shutil.copy(origen, destino)\n",
    "    print(f'El archivo {archivo} ha sido copiado a {ruta_destino}')"
   ]
  },
  {
   "cell_type": "code",
   "execution_count": null,
   "metadata": {
    "colab": {
     "base_uri": "https://localhost:8080/"
    },
    "id": "v32CYCZldhGD",
    "outputId": "6ccc1a0f-4bc2-4bc0-8362-e78bc41d6355"
   },
   "outputs": [],
   "source": [
    "# Bloque 05: Traducción individual de los subtítulos .vtt del inglés al español\n",
    "if not os.path.exists(\"Subtítulos_ES\"):\n",
    "    os.makedirs(\"Subtítulos_ES\")\n",
    "\n",
    "translator = Translator()\n",
    "\n",
    "for archivo_vtt in [ar for ar in os.listdir(\"Subtítulos\") if str.endswith(ar, \"vtt\")]:\n",
    "    print(archivo_vtt)\n",
    "    with open(os.path.join(\"Subtítulos\", archivo_vtt), \"r\") as f:\n",
    "        contenido = f.read()\n",
    "        lineas = contenido.split(\"\\n\")\n",
    "        traducido = \"WEBVTT\\n\\n\"\n",
    "        i = 2\n",
    "        while i < len(lineas):\n",
    "            if lineas[i] == \"\":\n",
    "                traducido += \"\\n\"\n",
    "                i += 1\n",
    "            else:\n",
    "                traducido += lineas[i] + \"\\n\"  # Copia la línea de tiempo\n",
    "                i += 1\n",
    "                texto_original = lineas[i]\n",
    "                texto_traducido = translator.translate(texto_original.strip(), dest='es').text\n",
    "                traducido += texto_traducido + \"\\n\"\n",
    "                i += 1\n",
    "    with open(os.path.join(\"Subtítulos_ES\", archivo_vtt), \"w\") as f:\n",
    "        f.write(traducido)\n",
    "    print(\"Se guardó como \" + os.path.join(\"vtt_es\", archivo_vtt))"
   ]
  },
  {
   "cell_type": "code",
   "execution_count": null,
   "metadata": {
    "colab": {
     "base_uri": "https://localhost:8080/"
    },
    "id": "H9ZBZAkEdhGF",
    "outputId": "26a602d1-f03f-4489-d47d-8709eb0bedda"
   },
   "outputs": [],
   "source": [
    "# Bloque 06: Guardado de los subtítulos .vtt traducidos al español\n",
    "ruta_origen = '/content/Subtítulos_ES'\n",
    "ruta_destino = '/content/drive/MyDrive/SubtítulosES'\n",
    "\n",
    "if not os.path.exists(ruta_destino):\n",
    "    os.makedirs(ruta_destino)\n",
    "    \n",
    "for archivo in os.listdir(ruta_origen):\n",
    "    if archivo.endswith('.vtt'):\n",
    "        origen = os.path.join(ruta_origen, archivo)\n",
    "        destino = os.path.join(ruta_destino, archivo)\n",
    "        shutil.copy(origen, destino)\n",
    "        print(f'El archivo {archivo} ha sido copiado a {ruta_destino}')"
   ]
  }
 ],
 "metadata": {
  "accelerator": "GPU",
  "colab": {
   "provenance": []
  },
  "gpuClass": "standard",
  "kernelspec": {
   "display_name": "Python 3 (ipykernel)",
   "language": "python",
   "name": "python3"
  },
  "language_info": {
   "codemirror_mode": {
    "name": "ipython",
    "version": 3
   },
   "file_extension": ".py",
   "mimetype": "text/x-python",
   "name": "python",
   "nbconvert_exporter": "python",
   "pygments_lexer": "ipython3",
   "version": "3.10.6"
  }
 },
 "nbformat": 4,
 "nbformat_minor": 4
}
